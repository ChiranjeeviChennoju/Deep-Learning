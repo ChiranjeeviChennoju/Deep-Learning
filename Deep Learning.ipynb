{
 "cells": [
  {
   "cell_type": "code",
   "execution_count": 1,
   "id": "7467e228",
   "metadata": {},
   "outputs": [],
   "source": [
    "import numpy as np"
   ]
  },
  {
   "cell_type": "code",
   "execution_count": null,
   "id": "b47a3a96",
   "metadata": {},
   "outputs": [],
   "source": [
    "x = np.array([[[5, 78, 2, 34, 0],\n",
    "               [6, 79, 3, 35, 1],\n",
    "               [7, 80, 4, 36, 2]],\n",
    "              [[5, 78, 2, 34, 0],\n",
    "               [6, 79, 3, 35, 1],\n",
    "               [7, 80, 4, 36, 2]],\n",
    "              [[5, 78, 2, 34, 0],\n",
    "               [6, 79, 3, 35, 1],\n",
    "               [7, 80, 4, 36, 2]],\n",
    "             [[5, 78, 2, 34, 0],\n",
    "               [6, 79, 3, 35, 1],\n",
    "               [7, 80, 4, 36, 2]]])\n",
    "\n",
    "print(x.shape)"
   ]
  },
  {
   "cell_type": "code",
   "execution_count": null,
   "id": "dac658f9",
   "metadata": {},
   "outputs": [],
   "source": [
    "y = np.array(12.)\n",
    "print(y.dtype)"
   ]
  },
  {
   "cell_type": "code",
   "execution_count": null,
   "id": "aebe22a9",
   "metadata": {},
   "outputs": [],
   "source": [
    "import tensorflow as tf\n",
    "import numpy as np\n",
    "import matplotlib.pyplot as plt\n",
    "import pandas as pd"
   ]
  },
  {
   "cell_type": "code",
   "execution_count": null,
   "id": "4ea66a36",
   "metadata": {},
   "outputs": [],
   "source": [
    "(train_X, train_y), (test_X, test_y) = tf.keras.datasets.mnist.load_data(path='mnist.npz')"
   ]
  },
  {
   "cell_type": "code",
   "execution_count": null,
   "id": "5de8b933",
   "metadata": {},
   "outputs": [],
   "source": [
    "train_X.ndim"
   ]
  },
  {
   "cell_type": "code",
   "execution_count": null,
   "id": "28d889f4",
   "metadata": {},
   "outputs": [],
   "source": [
    "train_X.dtype"
   ]
  },
  {
   "cell_type": "code",
   "execution_count": null,
   "id": "5c3b10b2",
   "metadata": {},
   "outputs": [],
   "source": [
    "digit = train_X[4]\n",
    "plt.imshow(digit, cmap=plt.cm.binary)\n",
    "plt.show()"
   ]
  },
  {
   "cell_type": "code",
   "execution_count": null,
   "id": "772c86a6",
   "metadata": {},
   "outputs": [],
   "source": [
    "new = train_X[10:100]"
   ]
  },
  {
   "cell_type": "code",
   "execution_count": null,
   "id": "cf3b8c9f",
   "metadata": {},
   "outputs": [],
   "source": [
    "new.shape"
   ]
  },
  {
   "cell_type": "code",
   "execution_count": null,
   "id": "fd24f6de",
   "metadata": {},
   "outputs": [],
   "source": [
    "x1 = train_X[:100, :20 , :20 ]"
   ]
  },
  {
   "cell_type": "code",
   "execution_count": null,
   "id": "57053a60",
   "metadata": {},
   "outputs": [],
   "source": [
    "f = np.array([1,2,3,4])"
   ]
  },
  {
   "cell_type": "code",
   "execution_count": null,
   "id": "cf9bd36f",
   "metadata": {},
   "outputs": [],
   "source": [
    "f.shape"
   ]
  },
  {
   "cell_type": "code",
   "execution_count": null,
   "id": "fc6f3175",
   "metadata": {},
   "outputs": [],
   "source": [
    "def naive_relu(x):\n",
    "    assert len(x.shape) == 2 # assert is a condition statement and raises error in case of exception\n",
    "    x = x.copy()\n",
    "    for i in range(x.shape[0]):\n",
    "        for j in range(x.shape[1]):\n",
    "            x[i,j] = max(x[i,j], 0)\n",
    "    return x\n",
    "\n",
    "# instead of this function you can use :\n",
    "\n",
    "z = np.maximum(z,0)"
   ]
  },
  {
   "cell_type": "code",
   "execution_count": null,
   "id": "72bb27b4",
   "metadata": {},
   "outputs": [],
   "source": [
    "def naive_add(x, y):\n",
    "    assert len(x.shape) == 2\n",
    "    assert x.shape == y.shape\n",
    "    x = x.copy()\n",
    "    for i in range(x.shape[0]):\n",
    "        for j in range(x.shape[1]):\n",
    "            x[i, j] += y[i, j]\n",
    "    return x\n",
    "\n",
    "# instead of this function you can use :\n",
    "\n",
    "z = x + y\n"
   ]
  },
  {
   "cell_type": "code",
   "execution_count": null,
   "id": "30d730c8",
   "metadata": {},
   "outputs": [],
   "source": [
    "import time \n",
    "\n",
    "x = np.random.random((20,100))\n",
    "y = np.random.random((20,100))\n",
    "\n",
    "t0 = time.time()\n",
    "for i in range(1000):\n",
    "    z = x + y\n",
    "    z = np.maximum(z,0.)\n",
    "print(\"Took: {0:.2f}s\".format(time.time() - t0))"
   ]
  },
  {
   "cell_type": "code",
   "execution_count": null,
   "id": "c7589273",
   "metadata": {},
   "outputs": [],
   "source": [
    "# calling the naive functions\n",
    "\n",
    "t0 = time.time()\n",
    "for _ in range(1000):\n",
    "    z = naive_add(x, y)\n",
    "    z = naive_relu(z)\n",
    "print(\"Took: {0:.2f} s\".format(time.time() - t0))"
   ]
  },
  {
   "cell_type": "code",
   "execution_count": null,
   "id": "61913a08",
   "metadata": {},
   "outputs": [],
   "source": [
    "X = np.random.random((32,10))\n",
    "Y = np.random.random((10,))\n",
    "Y = np.expand_axis()"
   ]
  },
  {
   "cell_type": "code",
   "execution_count": null,
   "id": "60077513",
   "metadata": {},
   "outputs": [],
   "source": [
    "# reshaping:\n",
    "\n",
    "x = np.array([[0.,1.],\n",
    "             [2.,3.],\n",
    "             [4.,5.]])\n",
    "\n",
    "x.shape"
   ]
  },
  {
   "cell_type": "code",
   "execution_count": null,
   "id": "aaef3965",
   "metadata": {},
   "outputs": [],
   "source": [
    "x = x.reshape((6,1))\n",
    "x"
   ]
  },
  {
   "cell_type": "code",
   "execution_count": null,
   "id": "aa56e638",
   "metadata": {},
   "outputs": [],
   "source": [
    "import numpy as np\n",
    "import pandas as pd\n",
    "\n",
    "# Set seed for reproducibility\n",
    "np.random.seed(42)\n",
    "\n",
    "# Generate 50 random heights (between 140 cm and 200 cm)\n",
    "heights = np.random.uniform(140, 200, 50)\n",
    "\n",
    "# Generate 50 random weights (between 50 kg and 100 kg)\n",
    "weights = np.random.uniform(50, 100, 50)\n",
    "\n",
    "# Combine into a dataset\n"
   ]
  },
  {
   "cell_type": "code",
   "execution_count": null,
   "id": "a9c6ad36",
   "metadata": {},
   "outputs": [],
   "source": [
    "def loss():\n",
    "    loss = (y_pred - y_true)^2"
   ]
  },
  {
   "cell_type": "code",
   "execution_count": null,
   "id": "44b9bcf2",
   "metadata": {},
   "outputs": [],
   "source": [
    "import cv2\n",
    "import matplotlib.pyplot as plt"
   ]
  },
  {
   "cell_type": "code",
   "execution_count": null,
   "id": "5f581461",
   "metadata": {},
   "outputs": [],
   "source": [
    "img = cv2.imread('honey1.png', cv2.IMREAD_GRAYSCALE)\n",
    "img = img\n",
    "plt.imshow(img, cmap = 'gray')\n",
    "plt.show()"
   ]
  },
  {
   "cell_type": "code",
   "execution_count": null,
   "id": "f6977c96",
   "metadata": {},
   "outputs": [],
   "source": [
    "img.shape"
   ]
  },
  {
   "cell_type": "code",
   "execution_count": null,
   "id": "4ce11ad2",
   "metadata": {},
   "outputs": [],
   "source": [
    "x = np.array([[1,2,3,4,5,6,7,8],[1,2,3,4,5,6,7,8],[1,2,3,4,5,6,7,8],[1,2,3,4,5,6,7,8],[11,12,13,14,15,16,17,18],[11,12,13,14,15,16,17,18],[11,12,13,14,15,16,17,18],[11,12,13,14,15,16,17,18]])"
   ]
  },
  {
   "cell_type": "code",
   "execution_count": null,
   "id": "419d2bff",
   "metadata": {},
   "outputs": [],
   "source": [
    "x"
   ]
  },
  {
   "cell_type": "code",
   "execution_count": null,
   "id": "3435c897",
   "metadata": {},
   "outputs": [],
   "source": [
    "l = int(len(x))"
   ]
  },
  {
   "cell_type": "code",
   "execution_count": null,
   "id": "c2665866",
   "metadata": {},
   "outputs": [],
   "source": [
    "l"
   ]
  },
  {
   "cell_type": "code",
   "execution_count": null,
   "id": "17ca580e",
   "metadata": {
    "scrolled": true
   },
   "outputs": [],
   "source": [
    "x[0:int(l/2),0:int(l/2)]"
   ]
  },
  {
   "cell_type": "code",
   "execution_count": null,
   "id": "a67da641",
   "metadata": {
    "scrolled": true
   },
   "outputs": [],
   "source": [
    "x[0:int(l/2),int(l/4):int(l-(l/4))]"
   ]
  },
  {
   "cell_type": "code",
   "execution_count": null,
   "id": "b7d79f87",
   "metadata": {
    "scrolled": true
   },
   "outputs": [],
   "source": [
    "x[0:int(l/2),int(l/2):]"
   ]
  },
  {
   "cell_type": "code",
   "execution_count": null,
   "id": "31160a67",
   "metadata": {},
   "outputs": [],
   "source": [
    "x[int(l/4):int(l-(l/4)),0:int(l/2)]"
   ]
  },
  {
   "cell_type": "code",
   "execution_count": null,
   "id": "398ba562",
   "metadata": {},
   "outputs": [],
   "source": [
    "x[int(l/4):int(l-(l/4)),int(l/4):int(l-(l/4))]"
   ]
  },
  {
   "cell_type": "code",
   "execution_count": null,
   "id": "fc22af68",
   "metadata": {},
   "outputs": [],
   "source": [
    "x[int(l/4):int(l-(l/4)),int(l/2):]"
   ]
  },
  {
   "cell_type": "code",
   "execution_count": null,
   "id": "39cce5c0",
   "metadata": {},
   "outputs": [],
   "source": [
    "x[int(l/2):,0:int(l/2)]"
   ]
  },
  {
   "cell_type": "code",
   "execution_count": null,
   "id": "a217b153",
   "metadata": {},
   "outputs": [],
   "source": [
    "x[int(l/2):,int(l/4):int(l-(l/4))]"
   ]
  },
  {
   "cell_type": "code",
   "execution_count": null,
   "id": "6566420e",
   "metadata": {},
   "outputs": [],
   "source": [
    "x[int(l/2):,int(l/2):]"
   ]
  },
  {
   "cell_type": "code",
   "execution_count": null,
   "id": "6f1d826d",
   "metadata": {},
   "outputs": [],
   "source": [
    "l = int(len(img))"
   ]
  },
  {
   "cell_type": "code",
   "execution_count": null,
   "id": "378c3d18",
   "metadata": {},
   "outputs": [],
   "source": [
    "d = [\n",
    "img[0:int(l/2),0:int(l/2)],\n",
    "img[0:int(l/2),int(l/4):int(l-(l/4))],\n",
    "img[0:int(l/2),int(l/2):],\n",
    "img[int(l/4):int(l-(l/4)),0:int(l/2)],\n",
    "img[int(l/4):int(l-(l/4)),int(l/4):int(l-(l/4))],\n",
    "img[int(l/4):int(l-(l/4)),int(l/2):],\n",
    "img[int(l/2):,0:int(l/2)],\n",
    "img[int(l/2):,int(l/4):int(l-(l/4))],\n",
    "img[int(l/2):,int(l/2):]\n",
    "]\n",
    "\n",
    "\n",
    "for i in d:\n",
    "    plt.imshow(i, cmap = 'gray')\n",
    "    plt.show()\n",
    "    \n",
    "    "
   ]
  },
  {
   "cell_type": "markdown",
   "id": "e0d77fc8",
   "metadata": {},
   "source": [
    "CNN Implementation"
   ]
  },
  {
   "cell_type": "code",
   "execution_count": 29,
   "id": "67ae4214",
   "metadata": {},
   "outputs": [
    {
     "data": {
      "text/plain": [
       "(3, 3, 3)"
      ]
     },
     "execution_count": 29,
     "metadata": {},
     "output_type": "execute_result"
    }
   ],
   "source": [
    "# let us take the input matrix :\n",
    "\n",
    "x = np.array([[[1,2,3],[4,5,6],[7,8,9]],\n",
    "             [[2,4,6],[4,6,8],[9,4,1]],\n",
    "             [[9,6,8],[1,5,3],[7,2,9]]])\n",
    "\n",
    "x.shape"
   ]
  },
  {
   "cell_type": "code",
   "execution_count": 30,
   "id": "11056d02",
   "metadata": {},
   "outputs": [],
   "source": [
    "output_shape = (2, 3 - 2 + 1, 3 - 2 + 1)\n",
    "kernels_shape = (2, 3, 2, 2)\n",
    "kernels = np.random.randn(*kernels_shape)\n",
    "biases = np.random.randn(*output_shape)"
   ]
  },
  {
   "cell_type": "code",
   "execution_count": 31,
   "id": "17c4b527",
   "metadata": {
    "scrolled": true
   },
   "outputs": [
    {
     "data": {
      "text/plain": [
       "array([[[ 0.70432395, -0.73076159],\n",
       "        [-0.8757278 ,  0.2747339 ]],\n",
       "\n",
       "       [[-0.13614052,  1.46562647],\n",
       "        [ 0.24232756,  0.96606664]]])"
      ]
     },
     "execution_count": 31,
     "metadata": {},
     "output_type": "execute_result"
    }
   ],
   "source": [
    "biases"
   ]
  },
  {
   "cell_type": "code",
   "execution_count": 35,
   "id": "60c69098",
   "metadata": {},
   "outputs": [
    {
     "name": "stdout",
     "output_type": "stream",
     "text": [
      "Output of convolutional forward\n",
      "\n",
      " [[[ -1.51333613   6.76679355]\n",
      "  [  5.1282547   -2.61193388]]\n",
      "\n",
      " [[-15.56008343 -21.15918857]\n",
      "  [-20.04314216 -34.3883979 ]]]\n"
     ]
    }
   ],
   "source": [
    "# convolutional forward example\n",
    "from scipy import signal\n",
    "\n",
    "output = np.copy(biases)\n",
    "for i in range(2):\n",
    "    for j in range(3):\n",
    "        output[i] += signal.correlate2d(x[j],kernels[i, j], \"valid\")\n",
    "print(\"Output of convolutional forward\\n\\n\",output)"
   ]
  },
  {
   "cell_type": "code",
   "execution_count": 36,
   "id": "14749f4b",
   "metadata": {},
   "outputs": [
    {
     "name": "stdout",
     "output_type": "stream",
     "text": [
      "[[[1.80444906e-01 9.98849944e-01]\n",
      "  [9.94108025e-01 6.83743142e-02]]\n",
      "\n",
      " [[1.74719570e-07 6.46667692e-10]\n",
      "  [1.97412186e-09 1.16227408e-15]]]\n"
     ]
    }
   ],
   "source": [
    "# sigmoid activation forward\n",
    "\n",
    "output = 1 / (1 + np.exp(-output)) # this is sigmoid formula\n",
    "\n",
    "print(output)"
   ]
  },
  {
   "cell_type": "code",
   "execution_count": null,
   "id": "a15ad77a",
   "metadata": {},
   "outputs": [],
   "source": [
    "# dense layer forward\n",
    "weights = np.random.randn(output_size, input_size)\n",
    "bias = np.random.randn(output_size, 1)\n",
    "output = "
   ]
  }
 ],
 "metadata": {
  "kernelspec": {
   "display_name": "Python 3 (ipykernel)",
   "language": "python",
   "name": "python3"
  },
  "language_info": {
   "codemirror_mode": {
    "name": "ipython",
    "version": 3
   },
   "file_extension": ".py",
   "mimetype": "text/x-python",
   "name": "python",
   "nbconvert_exporter": "python",
   "pygments_lexer": "ipython3",
   "version": "3.9.12"
  }
 },
 "nbformat": 4,
 "nbformat_minor": 5
}
